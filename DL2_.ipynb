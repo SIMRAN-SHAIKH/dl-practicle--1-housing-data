{
 "cells": [
  {
   "cell_type": "code",
   "execution_count": 1,
   "id": "1740c79d",
   "metadata": {},
   "outputs": [],
   "source": [
    "from tensorflow.keras.datasets import imdb"
   ]
  },
  {
   "cell_type": "code",
   "execution_count": 2,
   "id": "863a3ab8",
   "metadata": {},
   "outputs": [
    {
     "name": "stdout",
     "output_type": "stream",
     "text": [
      "Downloading data from https://storage.googleapis.com/tensorflow/tf-keras-datasets/imdb.npz\n",
      "17464789/17464789 [==============================] - 5s 0us/step\n"
     ]
    }
   ],
   "source": [
    "(train_data, train_label), (test_data, test_label) = imdb.load_data(num_words = 10000)"
   ]
  },
  {
   "cell_type": "code",
   "execution_count": 8,
   "id": "9da92c61",
   "metadata": {},
   "outputs": [],
   "source": [
    "(train_data, train_label), (test_data, test_label) = imdb.load_data(num_words = 10000)"
   ]
  },
  {
   "cell_type": "code",
   "execution_count": 15,
   "id": "7f80a051",
   "metadata": {},
   "outputs": [],
   "source": [
    "import numpy as np\n",
    "from tensorflow.keras.models import Sequential\n",
    "from tensorflow.keras.layers import Dense"
   ]
  },
  {
   "cell_type": "code",
   "execution_count": 13,
   "id": "8d9de5c5",
   "metadata": {},
   "outputs": [],
   "source": [
    "import numpy as np\n",
    "\n",
    "def vectorize_sequences(sequences, dimensions = 10000):\n",
    "    results = np.zeros((len(sequences), dimensions))\n",
    "    for i,sequences in enumerate(sequences):\n",
    "        results[i, sequences] = 1\n",
    "    return results\n",
    "\n",
    "x_train = vectorize_sequences(train_data)\n",
    "y_train = vectorize_sequences(test_data)"
   ]
  },
  {
   "cell_type": "code",
   "execution_count": 14,
   "id": "97af981b",
   "metadata": {},
   "outputs": [],
   "source": [
    "y_train = np.asarray(train_label).astype('float32')\n",
    "y_test = np.asarray(test_label).astype('float32')"
   ]
  },
  {
   "cell_type": "code",
   "execution_count": 16,
   "id": "e50b8820",
   "metadata": {},
   "outputs": [],
   "source": [
    "model = Sequential()\n",
    "model.add(Dense(16, input_shape=(10000, ), activation = \"relu\"))\n",
    "model.add(Dense(16, activation = \"relu\"))\n",
    "model.add(Dense(1, activation = \"sigmoid\"))"
   ]
  },
  {
   "cell_type": "code",
   "execution_count": 17,
   "id": "6e15fda8",
   "metadata": {},
   "outputs": [
    {
     "name": "stdout",
     "output_type": "stream",
     "text": [
      "Model: \"sequential\"\n",
      "_________________________________________________________________\n",
      " Layer (type)                Output Shape              Param #   \n",
      "=================================================================\n",
      " dense (Dense)               (None, 16)                160016    \n",
      "                                                                 \n",
      " dense_1 (Dense)             (None, 16)                272       \n",
      "                                                                 \n",
      " dense_2 (Dense)             (None, 1)                 17        \n",
      "                                                                 \n",
      "=================================================================\n",
      "Total params: 160,305\n",
      "Trainable params: 160,305\n",
      "Non-trainable params: 0\n",
      "_________________________________________________________________\n"
     ]
    }
   ],
   "source": [
    "model.compile(optimizer='adam', loss = 'mse', metrics = ['accuracy'])\n",
    "model.summary()"
   ]
  },
  {
   "cell_type": "code",
   "execution_count": 22,
   "id": "0675614a",
   "metadata": {},
   "outputs": [
    {
     "name": "stdout",
     "output_type": "stream",
     "text": [
      "Epoch 1/10\n",
      "35/35 [==============================] - 2s 69ms/step - loss: 0.0037 - accuracy: 0.9963 - val_loss: 0.1154 - val_accuracy: 0.8655\n",
      "Epoch 2/10\n",
      "35/35 [==============================] - 1s 35ms/step - loss: 0.0037 - accuracy: 0.9963 - val_loss: 0.1156 - val_accuracy: 0.8653\n",
      "Epoch 3/10\n",
      "35/35 [==============================] - 1s 29ms/step - loss: 0.0037 - accuracy: 0.9963 - val_loss: 0.1161 - val_accuracy: 0.8639\n",
      "Epoch 4/10\n",
      "35/35 [==============================] - 1s 32ms/step - loss: 0.0037 - accuracy: 0.9964 - val_loss: 0.1163 - val_accuracy: 0.8640\n",
      "Epoch 5/10\n",
      "35/35 [==============================] - 1s 27ms/step - loss: 0.0036 - accuracy: 0.9964 - val_loss: 0.1163 - val_accuracy: 0.8637\n",
      "Epoch 6/10\n",
      "35/35 [==============================] - 1s 26ms/step - loss: 0.0036 - accuracy: 0.9964 - val_loss: 0.1164 - val_accuracy: 0.8633\n",
      "Epoch 7/10\n",
      "35/35 [==============================] - 1s 30ms/step - loss: 0.0036 - accuracy: 0.9964 - val_loss: 0.1164 - val_accuracy: 0.8633\n",
      "Epoch 8/10\n",
      "35/35 [==============================] - 1s 26ms/step - loss: 0.0036 - accuracy: 0.9964 - val_loss: 0.1165 - val_accuracy: 0.8631\n",
      "Epoch 9/10\n",
      "35/35 [==============================] - 1s 26ms/step - loss: 0.0036 - accuracy: 0.9964 - val_loss: 0.1167 - val_accuracy: 0.8632\n",
      "Epoch 10/10\n",
      "35/35 [==============================] - 1s 42ms/step - loss: 0.0036 - accuracy: 0.9964 - val_loss: 0.1173 - val_accuracy: 0.8617\n"
     ]
    }
   ],
   "source": [
    "history = model.fit(x_train, y_train, validation_split = 0.3, epochs = 10, verbose = 1, batch_size = 512)"
   ]
  },
  {
   "cell_type": "code",
   "execution_count": 29,
   "id": "4e261529",
   "metadata": {},
   "outputs": [
    {
     "data": {
      "text/plain": [
       "13"
      ]
     },
     "execution_count": 29,
     "metadata": {},
     "output_type": "execute_result"
    }
   ],
   "source": [
    "len('reviews_train')"
   ]
  },
  {
   "cell_type": "code",
   "execution_count": 30,
   "id": "9937082c",
   "metadata": {},
   "outputs": [
    {
     "data": {
      "text/plain": [
       "12"
      ]
     },
     "execution_count": 30,
     "metadata": {},
     "output_type": "execute_result"
    }
   ],
   "source": [
    "len('reviews_test')"
   ]
  },
  {
   "cell_type": "code",
   "execution_count": 40,
   "id": "caaae2be",
   "metadata": {},
   "outputs": [
    {
     "name": "stdout",
     "output_type": "stream",
     "text": [
      "Epoch 1/20\n",
      "35/35 [==============================] - 16s 312ms/step - loss: 0.5600 - accuracy: 0.7700 - val_loss: 0.3979 - val_accuracy: 0.8753\n",
      "Epoch 2/20\n",
      "35/35 [==============================] - 1s 33ms/step - loss: 0.3053 - accuracy: 0.9039 - val_loss: 0.2910 - val_accuracy: 0.8900\n",
      "Epoch 3/20\n",
      "35/35 [==============================] - 1s 35ms/step - loss: 0.2091 - accuracy: 0.9319 - val_loss: 0.2692 - val_accuracy: 0.8929\n",
      "Epoch 4/20\n",
      "35/35 [==============================] - 1s 38ms/step - loss: 0.1600 - accuracy: 0.9499 - val_loss: 0.2742 - val_accuracy: 0.8903\n",
      "Epoch 5/20\n",
      "35/35 [==============================] - 1s 30ms/step - loss: 0.1268 - accuracy: 0.9636 - val_loss: 0.2874 - val_accuracy: 0.8872\n",
      "Epoch 6/20\n",
      "35/35 [==============================] - 1s 33ms/step - loss: 0.1020 - accuracy: 0.9718 - val_loss: 0.3105 - val_accuracy: 0.8841\n",
      "Epoch 7/20\n",
      "35/35 [==============================] - 1s 29ms/step - loss: 0.0821 - accuracy: 0.9797 - val_loss: 0.3356 - val_accuracy: 0.8811\n",
      "Epoch 8/20\n",
      "35/35 [==============================] - 1s 30ms/step - loss: 0.0662 - accuracy: 0.9848 - val_loss: 0.3663 - val_accuracy: 0.8780\n",
      "Epoch 9/20\n",
      "35/35 [==============================] - 1s 36ms/step - loss: 0.0542 - accuracy: 0.9889 - val_loss: 0.3966 - val_accuracy: 0.8765\n",
      "Epoch 10/20\n",
      "35/35 [==============================] - 1s 30ms/step - loss: 0.0429 - accuracy: 0.9931 - val_loss: 0.4297 - val_accuracy: 0.8748\n",
      "Epoch 11/20\n",
      "35/35 [==============================] - 1s 31ms/step - loss: 0.0339 - accuracy: 0.9950 - val_loss: 0.4618 - val_accuracy: 0.8731\n",
      "Epoch 12/20\n",
      "35/35 [==============================] - 1s 32ms/step - loss: 0.0263 - accuracy: 0.9971 - val_loss: 0.4977 - val_accuracy: 0.8705\n",
      "Epoch 13/20\n",
      "35/35 [==============================] - 1s 30ms/step - loss: 0.0202 - accuracy: 0.9981 - val_loss: 0.5259 - val_accuracy: 0.8689\n",
      "Epoch 14/20\n",
      "35/35 [==============================] - 1s 31ms/step - loss: 0.0157 - accuracy: 0.9992 - val_loss: 0.5587 - val_accuracy: 0.8689\n",
      "Epoch 15/20\n",
      "35/35 [==============================] - 1s 31ms/step - loss: 0.0121 - accuracy: 0.9995 - val_loss: 0.5818 - val_accuracy: 0.8668\n",
      "Epoch 16/20\n",
      "35/35 [==============================] - 1s 33ms/step - loss: 0.0091 - accuracy: 0.9996 - val_loss: 0.6127 - val_accuracy: 0.8665\n",
      "Epoch 17/20\n",
      "35/35 [==============================] - 1s 29ms/step - loss: 0.0071 - accuracy: 0.9998 - val_loss: 0.6366 - val_accuracy: 0.8671\n",
      "Epoch 18/20\n",
      "35/35 [==============================] - 1s 30ms/step - loss: 0.0057 - accuracy: 0.9999 - val_loss: 0.6571 - val_accuracy: 0.8667\n",
      "Epoch 19/20\n",
      "35/35 [==============================] - 1s 34ms/step - loss: 0.0046 - accuracy: 1.0000 - val_loss: 0.6769 - val_accuracy: 0.8664\n",
      "Epoch 20/20\n",
      "35/35 [==============================] - 1s 33ms/step - loss: 0.0038 - accuracy: 1.0000 - val_loss: 0.6971 - val_accuracy: 0.8665\n",
      "782/782 [==============================] - 4s 5ms/step - loss: 0.7479 - accuracy: 0.8550\n",
      "Test Loss: 0.7478634119033813\n",
      "Test Accuracy: 0.8550000190734863\n"
     ]
    }
   ],
   "source": [
    "from tensorflow.keras.datasets import imdb\n",
    "import numpy as np\n",
    "\n",
    "# Load the IMDB dataset\n",
    "(train_data, train_label), (test_data, test_label) = imdb.load_data(num_words=10000)\n",
    "\n",
    "# Vectorize sequences\n",
    "def vectorize_sequences(sequences, dimensions=10000):\n",
    "    results = np.zeros((len(sequences), dimensions))\n",
    "    for i, sequence in enumerate(sequences):\n",
    "        results[i, sequence] = 1\n",
    "    return results\n",
    "\n",
    "x_train = vectorize_sequences(train_data)\n",
    "x_test = vectorize_sequences(test_data)\n",
    "\n",
    "# Convert labels to float32\n",
    "y_train = np.asarray(train_label).astype('float32')\n",
    "y_test = np.asarray(test_label).astype('float32')\n",
    "\n",
    "# Define the model\n",
    "from tensorflow.keras.models import Sequential\n",
    "from tensorflow.keras.layers import Dense\n",
    "\n",
    "model = Sequential()\n",
    "model.add(Dense(16, input_shape=(10000,), activation='relu'))\n",
    "model.add(Dense(16, activation='relu'))\n",
    "model.add(Dense(1, activation='sigmoid'))\n",
    "\n",
    "# Compile the model\n",
    "model.compile(optimizer='adam', loss='binary_crossentropy', metrics=['accuracy'])\n",
    "\n",
    "# Train the model\n",
    "history = model.fit(x_train, y_train, validation_split=0.3, epochs=20, batch_size=512, verbose=1)\n",
    "\n",
    "# Evaluate the model\n",
    "test_loss, test_accuracy = model.evaluate(x_test, y_test)\n",
    "print(\"Test Loss:\", test_loss)\n",
    "print(\"Test Accuracy:\", test_accuracy)\n"
   ]
  },
  {
   "cell_type": "code",
   "execution_count": 42,
   "id": "ef57bbbe",
   "metadata": {},
   "outputs": [
    {
     "name": "stdout",
     "output_type": "stream",
     "text": [
      "Model: \"sequential_3\"\n",
      "_________________________________________________________________\n",
      " Layer (type)                Output Shape              Param #   \n",
      "=================================================================\n",
      " dense_5 (Dense)             (None, 16)                160016    \n",
      "                                                                 \n",
      " dense_6 (Dense)             (None, 16)                272       \n",
      "                                                                 \n",
      " dense_7 (Dense)             (None, 1)                 17        \n",
      "                                                                 \n",
      "=================================================================\n",
      "Total params: 160,305\n",
      "Trainable params: 160,305\n",
      "Non-trainable params: 0\n",
      "_________________________________________________________________\n"
     ]
    }
   ],
   "source": [
    "model.summary()"
   ]
  },
  {
   "cell_type": "code",
   "execution_count": null,
   "id": "726d3669",
   "metadata": {},
   "outputs": [],
   "source": []
  }
 ],
 "metadata": {
  "kernelspec": {
   "display_name": "Python 3 (ipykernel)",
   "language": "python",
   "name": "python3"
  },
  "language_info": {
   "codemirror_mode": {
    "name": "ipython",
    "version": 3
   },
   "file_extension": ".py",
   "mimetype": "text/x-python",
   "name": "python",
   "nbconvert_exporter": "python",
   "pygments_lexer": "ipython3",
   "version": "3.10.9"
  }
 },
 "nbformat": 4,
 "nbformat_minor": 5
}
